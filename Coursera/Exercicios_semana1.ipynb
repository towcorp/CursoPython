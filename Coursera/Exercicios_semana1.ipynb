{
  "nbformat": 4,
  "nbformat_minor": 0,
  "metadata": {
    "colab": {
      "name": "Exercicios_semana1.ipynb",
      "provenance": [],
      "collapsed_sections": [
        "Vvgt5DjiJJZa",
        "i6eEcjM-KSJ5",
        "hYw6l8aCL13_"
      ],
      "authorship_tag": "ABX9TyMOHJ4kT8aeXw7QH9KMVIUy",
      "include_colab_link": true
    },
    "kernelspec": {
      "name": "python3",
      "display_name": "Python 3"
    }
  },
  "cells": [
    {
      "cell_type": "markdown",
      "metadata": {
        "id": "view-in-github",
        "colab_type": "text"
      },
      "source": [
        "<a href=\"https://colab.research.google.com/github/towcorp/CursoPython/blob/master/Coursera/Exercicios_semana1.ipynb\" target=\"_parent\"><img src=\"https://colab.research.google.com/assets/colab-badge.svg\" alt=\"Open In Colab\"/></a>"
      ]
    },
    {
      "cell_type": "markdown",
      "metadata": {
        "id": "QdV-68VUJt8J"
      },
      "source": [
        "# Introdução à Ciência da Computação com Python Parte 2\n"
      ]
    },
    {
      "cell_type": "code",
      "metadata": {
        "id": "wJDKTYUgJkwB"
      },
      "source": [
        "# usar como padrao para testes dos exercicios\n",
        "m1 = [[1, 2, 3], [4, 5, 6], [4, 5, 6]]\n",
        "m2 = [[1, 2, 3], [4, 5, 6], [2, 2, 2]]\n",
        "m3 = [[2]]\n",
        "m4 = [[1]]\n",
        "m5 = [[1, 2, 3],[5, 6, 7]]\n",
        "m6 = [[1],[2],[3]]\n",
        "m7 = [[1, 2, 3]]"
      ],
      "execution_count": 3,
      "outputs": []
    },
    {
      "cell_type": "markdown",
      "metadata": {
        "id": "Vvgt5DjiJJZa"
      },
      "source": [
        "### Tarefa de programação"
      ]
    },
    {
      "cell_type": "markdown",
      "metadata": {
        "id": "i6eEcjM-KSJ5"
      },
      "source": [
        "### *Exercício 1: Tamanho da matriz*\n",
        "\n",
        "Escreva uma função dimensoes(matriz) que recebe uma matriz como parâmetro e imprime as dimensões da matriz recebida, no formato iXj.\n",
        "\n",
        "Exemplos:\n",
        " \n",
        "\n",
        "```\n",
        "minha_matriz = [[1], [2], [3]]\n",
        "dimensoes(minha_matriz)\n",
        ">> 3X1\n",
        "```\n",
        "\n",
        "\n",
        "\n",
        "```\n",
        "minha_matriz = [[1, 2, 3], [4, 5, 6]]\n",
        "dimensoes(minha_matriz)\n",
        ">>2X3\n",
        "```\n",
        "\n",
        "\n"
      ]
    },
    {
      "cell_type": "code",
      "metadata": {
        "id": "zNtODLQDLOt-"
      },
      "source": [
        "def dimensoes(matriz):\n",
        "  col = 0\n",
        "  for i in matriz:\n",
        "    col = col + 1\n",
        "    \n",
        "  print(str(col) + 'X' + str(len(matriz[0])))"
      ],
      "execution_count": 163,
      "outputs": []
    },
    {
      "cell_type": "code",
      "metadata": {
        "id": "f6iECLV3Lc6X",
        "outputId": "4081bb4a-2547-4325-d90c-4442949a004e",
        "colab": {
          "base_uri": "https://localhost:8080/"
        }
      },
      "source": [
        "dimensoes(m4)"
      ],
      "execution_count": 172,
      "outputs": [
        {
          "output_type": "stream",
          "text": [
            "1X1\n"
          ],
          "name": "stdout"
        }
      ]
    },
    {
      "cell_type": "markdown",
      "metadata": {
        "id": "hYw6l8aCL13_"
      },
      "source": [
        "### Exercício 2: Soma de matrizes\n",
        "Escreva a função soma_matrizes(m1, m2) que recebe 2 matrizes e devolve uma matriz que represente sua soma caso as matrizes tenham dimensões iguais. Caso contrário, a função deve devolver False.\n",
        "\n",
        "Exemplos:\n",
        "\n",
        "\n",
        "\n",
        "```\n",
        "m1 = [[1, 2, 3], [4, 5, 6]]\n",
        "m2 = [[2, 3, 4], [5, 6, 7]]\n",
        "soma_matrizes(m1, m2) \n",
        ">> [[3, 5, 7], [9, 11, 13]]\n",
        "```\n",
        "\n",
        "\n",
        "```\n",
        "m1 = [[1], [2], [3]]\n",
        "m2 = [[2, 3, 4], [5, 6, 7]]\n",
        "soma_matrizes(m1, m2) \n",
        ">> False\n",
        "```\n",
        "\n",
        "\n"
      ]
    },
    {
      "cell_type": "code",
      "metadata": {
        "id": "9kxv2LykhMMv"
      },
      "source": [
        "def soma_matrizes(m1, m2):\n",
        "    matriz_soma = []\n",
        "\n",
        "    quant_linhas1 = len(m1) # Conta quantas linhas existem\n",
        "    quant_linhas2 = len(m2) # Conta quantas linhas existem\n",
        "\n",
        "\n",
        "    if (quant_linhas1 == quant_linhas2) == 0 and len(m1[0]) == len(m2[0]) == 0 :\n",
        "\n",
        "      quant_colunas1 = len(m1[0]) # Conta quantos elementos têm em uma linha\n",
        "      quant_colunas2 = len(m2[0]) # Conta quantos elementos têm em uma linha\n",
        "      \n",
        "      for i in range(quant_linhas1):\n",
        "        # Supondo que as duas matrizes possuem o mesmo tamanho\n",
        "\n",
        "        # Cria uma nova linha na matriz_soma\n",
        "        matriz_soma.append([])\n",
        "        for j in range(quant_colunas1):\n",
        "          # Somando os elementos que possuem o mesmo índice\n",
        "          soma = m1[i][j] + m2[i][j]\n",
        "          matriz_soma[i].append(soma)\n",
        "      return matriz_soma\n",
        "\n",
        "    else:\n",
        "      return False\n"
      ],
      "execution_count": 213,
      "outputs": []
    },
    {
      "cell_type": "code",
      "metadata": {
        "id": "pB8n8HiEh6dN",
        "outputId": "37a92343-8e01-494b-972b-9cbc9e6b1e0f",
        "colab": {
          "base_uri": "https://localhost:8080/"
        }
      },
      "source": [
        "\n",
        "soma_matrizes(m1, m3)"
      ],
      "execution_count": 214,
      "outputs": [
        {
          "output_type": "execute_result",
          "data": {
            "text/plain": [
              "False"
            ]
          },
          "metadata": {
            "tags": []
          },
          "execution_count": 214
        }
      ]
    },
    {
      "cell_type": "markdown",
      "metadata": {
        "id": "6bArIvL8NlSK"
      },
      "source": [
        "## Exercícios adicionais (opcionais)"
      ]
    },
    {
      "cell_type": "markdown",
      "metadata": {
        "id": "Ti4ZZK8tNqG-"
      },
      "source": [
        "###Exercício 1: Imprimindo matrizes\n",
        "Como proposto na primeira vídeo-aula da semana, escreva uma função imprime_matriz(matriz), que recebe uma matriz como parâmetro e imprime a matriz, linha por linha. Note que NÃO se deve imprimir espaços após o último elemento de cada linha!\n",
        "\n",
        "Exemplos:\n",
        "\n",
        "\n",
        "\n",
        "```\n",
        "minha_matriz = [[1], [2], [3]]\n",
        "imprime_matriz(minha_matriz)\n",
        ">>1\n",
        " 2\n",
        "  3\n",
        "```\n",
        "\n",
        "\n",
        "```\n",
        "minha_matriz = [[1, 2, 3], [4, 5, 6]]\n",
        "imprime_matriz(minha_matriz)\n",
        ">>1 2 3\n",
        "  4 5 6\n",
        "```\n",
        "\n",
        "\n"
      ]
    },
    {
      "cell_type": "code",
      "metadata": {
        "id": "ltkXG17FkxK8"
      },
      "source": [
        "def imprime_matriz(minha_matriz):\n",
        "  \n",
        "  for i in minha_matriz:\n",
        "    temporario = \"\"\n",
        "    for j in i:\n",
        "      \n",
        "      temporario = temporario + str(j) + \" \"\n",
        "    print((temporario).strip())"
      ],
      "execution_count": 26,
      "outputs": []
    },
    {
      "cell_type": "code",
      "metadata": {
        "id": "Rgtbl1pdxlAI",
        "outputId": "e482dfd2-bd97-4d91-abae-624f9dc75c7b",
        "colab": {
          "base_uri": "https://localhost:8080/"
        }
      },
      "source": [
        "imprime_matriz(m1)"
      ],
      "execution_count": 28,
      "outputs": [
        {
          "output_type": "stream",
          "text": [
            "1 2 3\n",
            "4 5 6\n",
            "4 5 6\n"
          ],
          "name": "stdout"
        }
      ]
    },
    {
      "cell_type": "markdown",
      "metadata": {
        "id": "X3D9OMc-OQF_"
      },
      "source": [
        "## Exercício 2: Matrizes multiplicáveis\n",
        "Duas matrizes são multiplicáveis se o número de colunas da primeira é igual ao número de linhas da segunda. Escreva a função sao_multiplicaveis(m1, m2) que recebe duas matrizes como parâmetro e devolve True se as matrizes forem multiplicavéis (na ordem dada) e False caso contrário.\n",
        "\n",
        "Exemplos:\n",
        "\n",
        "\n",
        "```\n",
        "m1 = [[1, 2, 3], [4, 5, 6]]\n",
        "m2 = [[2, 3, 4], [5, 6, 7]]\n",
        "sao_multiplicaveis(m1, m2) => False\n",
        "```\n",
        "\n",
        "\n",
        "```\n",
        "m1 = [[1], [2], [3]]\n",
        "m2 = [[1, 2, 3]]\n",
        "sao_multiplicaveis(m1, m2) => True\n",
        "```\n",
        "\n",
        "\n"
      ]
    },
    {
      "cell_type": "code",
      "metadata": {
        "id": "0pkSEBGmNBsw"
      },
      "source": [
        "def sao_multiplicaveis(m1, m2):\n",
        "  if len(m2) == len(m1[0]):\n",
        "    return True\n",
        "  else:\n",
        "    \n",
        "    return False"
      ],
      "execution_count": 210,
      "outputs": []
    },
    {
      "cell_type": "code",
      "metadata": {
        "id": "5VOG5WlOQzh8",
        "outputId": "b3718748-34ef-43ef-aaa8-16471ff2ab55",
        "colab": {
          "base_uri": "https://localhost:8080/"
        }
      },
      "source": [
        "sao_multiplicaveis(m6, m5)"
      ],
      "execution_count": 212,
      "outputs": [
        {
          "output_type": "execute_result",
          "data": {
            "text/plain": [
              "False"
            ]
          },
          "metadata": {
            "tags": []
          },
          "execution_count": 212
        }
      ]
    }
  ]
}