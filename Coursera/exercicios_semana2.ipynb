{
  "nbformat": 4,
  "nbformat_minor": 0,
  "metadata": {
    "colab": {
      "name": "exercicios_semana2",
      "provenance": [],
      "authorship_tag": "ABX9TyPjmfeGKESmMpMBRTPeGyBx",
      "include_colab_link": true
    },
    "kernelspec": {
      "name": "python3",
      "display_name": "Python 3"
    }
  },
  "cells": [
    {
      "cell_type": "markdown",
      "metadata": {
        "id": "view-in-github",
        "colab_type": "text"
      },
      "source": [
        "<a href=\"https://colab.research.google.com/github/towcorp/CursoPython/blob/master/Coursera/exercicios_semana2.ipynb\" target=\"_parent\"><img src=\"https://colab.research.google.com/assets/colab-badge.svg\" alt=\"Open In Colab\"/></a>"
      ]
    },
    {
      "cell_type": "markdown",
      "metadata": {
        "id": "VrPp-qyuOvqF"
      },
      "source": [
        "# Exemplos  de funcões e metodos"
      ]
    },
    {
      "cell_type": "code",
      "metadata": {
        "id": "bGO1bcprz1r9",
        "colab": {
          "base_uri": "https://localhost:8080/",
          "height": 35
        },
        "outputId": "e2e110cd-bff7-4489-dbdc-feeae4429f43"
      },
      "source": [
        "time = 'Ibis'\n",
        "time[2] # Mastra o caractere da posição selecionada"
      ],
      "execution_count": null,
      "outputs": [
        {
          "output_type": "execute_result",
          "data": {
            "application/vnd.google.colaboratory.intrinsic+json": {
              "type": "string"
            },
            "text/plain": [
              "'i'"
            ]
          },
          "metadata": {
            "tags": []
          },
          "execution_count": 3
        }
      ]
    },
    {
      "cell_type": "code",
      "metadata": {
        "id": "SnPrJ40E02jV",
        "colab": {
          "base_uri": "https://localhost:8080/"
        },
        "outputId": "2faa92ba-6dd3-4bb5-abf6-d687ede4db41"
      },
      "source": [
        "print(time.upper())  # todos caracteres em maiusculo\n",
        "print(time.lower())  # todos caracteres em minusculo\n"
      ],
      "execution_count": null,
      "outputs": [
        {
          "output_type": "stream",
          "text": [
            "IBIS\n",
            "ibis\n"
          ],
          "name": "stdout"
        }
      ]
    },
    {
      "cell_type": "code",
      "metadata": {
        "id": "IM-CIjCw1Ya6",
        "colab": {
          "base_uri": "https://localhost:8080/"
        },
        "outputId": "62b3e780-6fd8-4f38-b334-d433c5fd7582"
      },
      "source": [
        "print(\"ana gosta de pular\".capitalize())  # Primeira letra em maiuscula\n",
        "print(\"BRASIL\".capitalize())"
      ],
      "execution_count": null,
      "outputs": [
        {
          "output_type": "stream",
          "text": [
            "Ana gosta de pular\n",
            "Brasil\n"
          ],
          "name": "stdout"
        }
      ]
    },
    {
      "cell_type": "code",
      "metadata": {
        "id": "R6SeNDJT1mNZ",
        "colab": {
          "base_uri": "https://localhost:8080/"
        },
        "outputId": "d456e281-0d1b-47f3-d739-3cdc91fa86cf"
      },
      "source": [
        "print(\"  cleiton@email.com\".strip()) # remove espaço em branco no começo e no final\n",
        "print(\"cleiton@email.com  \".strip()) \n",
        "print(\"  cleiton@email.com   \".strip())"
      ],
      "execution_count": null,
      "outputs": [
        {
          "output_type": "stream",
          "text": [
            "cleiton@email.com\n",
            "cleiton@email.com\n",
            "cleiton@email.com\n"
          ],
          "name": "stdout"
        }
      ]
    },
    {
      "cell_type": "code",
      "metadata": {
        "id": "7mQtvHb22dxe",
        "colab": {
          "base_uri": "https://localhost:8080/"
        },
        "outputId": "9c647856-02a7-4b5d-c34a-261182ff2f46"
      },
      "source": [
        "print(\"ana gosta de pular\".count('a'))  # conta o total de ocorrencia do caractere \n",
        "print(\"ana gosta de pular\".count('de')) "
      ],
      "execution_count": null,
      "outputs": [
        {
          "output_type": "stream",
          "text": [
            "4\n",
            "1\n"
          ],
          "name": "stdout"
        }
      ]
    },
    {
      "cell_type": "code",
      "metadata": {
        "id": "0wtNsNFt3FfT",
        "colab": {
          "base_uri": "https://localhost:8080/"
        },
        "outputId": "feacc666-569b-4035-acf9-723ad99f8c2d"
      },
      "source": [
        "frase = \"eu gosto de abacaxi\"\n",
        "print(frase.replace('abacaxi', 'manga'))  # substitui o primeiro item pelo segundo \n"
      ],
      "execution_count": null,
      "outputs": [
        {
          "output_type": "stream",
          "text": [
            "eu gosto de manga\n"
          ],
          "name": "stdout"
        }
      ]
    },
    {
      "cell_type": "code",
      "metadata": {
        "id": "SAAjTgIP3ph0",
        "colab": {
          "base_uri": "https://localhost:8080/",
          "height": 35
        },
        "outputId": "c637d86b-2bb6-4940-c26d-a4451b13cf6d"
      },
      "source": [
        "# concatenando funçoes\n",
        "frase.capitalize().center(40)  # primeira funcao coloca o inicio em maiusculo e o center centraliza entre a quantidade de espaços (40) "
      ],
      "execution_count": null,
      "outputs": [
        {
          "output_type": "execute_result",
          "data": {
            "application/vnd.google.colaboratory.intrinsic+json": {
              "type": "string"
            },
            "text/plain": [
              "'          Eu gosto de abacaxi           '"
            ]
          },
          "metadata": {
            "tags": []
          },
          "execution_count": 24
        }
      ]
    },
    {
      "cell_type": "code",
      "metadata": {
        "id": "0yLwZmPD4UT_",
        "colab": {
          "base_uri": "https://localhost:8080/"
        },
        "outputId": "db5bc8b9-b7ae-40ea-c318-33e78baf408d"
      },
      "source": [
        "frase.find(\"a\") # encontra a posição da primeira ocorrencia da busca"
      ],
      "execution_count": null,
      "outputs": [
        {
          "output_type": "execute_result",
          "data": {
            "text/plain": [
              "12"
            ]
          },
          "metadata": {
            "tags": []
          },
          "execution_count": 25
        }
      ]
    },
    {
      "cell_type": "code",
      "metadata": {
        "id": "CoPoyhZS4k5F",
        "colab": {
          "base_uri": "https://localhost:8080/"
        },
        "outputId": "1160d7e8-56ea-4317-c8d3-d135bcdf46e3"
      },
      "source": [
        "# Slice\n",
        "fruta = 'amora'\n",
        "print(fruta[:4])  # mostrar ate a posição determinada \":4\"\n",
        "print(fruta[1:])  # mostrar apartir da posição determinada \"1:\"\n",
        "print(fruta[2:4])  # mostrar entre a posição determinada  \"2:4\""
      ],
      "execution_count": null,
      "outputs": [
        {
          "output_type": "stream",
          "text": [
            "amor\n",
            "mora\n",
            "or\n"
          ],
          "name": "stdout"
        }
      ]
    },
    {
      "cell_type": "markdown",
      "metadata": {
        "id": "uoFyinB956td"
      },
      "source": [
        "# Exercicio de fixação\n",
        "\n",
        "Escrever uma função que recebe uma lista de Strings contendo nomes de pessoas como parametro e devolve o nome mais curto. A função deve ignorar espaços antes e depois do nome e deve devolver o nome \"capitalizado\", i.e., apenas com a 1° letra maiuscula.\n",
        "\n",
        "\n",
        "\n",
        "```\n",
        "lista_de_nomes = ['  ana', 'jose  ', '  arquibaldo ', 'alouhis   ']\n",
        "mais_curto(lista_de_nomes)\n",
        "```\n",
        "\n"
      ]
    },
    {
      "cell_type": "code",
      "metadata": {
        "id": "sE6mFOun5Cs7"
      },
      "source": [
        "\n",
        "def mais_curto(lista):\n",
        "  nova_lista = []\n",
        "  pos = 0\n",
        "  nome_curto = []\n",
        "  i = 0\n",
        "  for i in lista:\n",
        "    nova_lista.append(i.strip().capitalize())\n",
        "\n",
        "  nome_curto = nova_lista[pos]\n",
        "  \n",
        "  for i in range(len(nova_lista)-1):\n",
        "    if len(nome_curto) == len(nova_lista[i]):\n",
        "      nome_curto = nova_lista[i]\n",
        "      \n",
        "      \n",
        "    elif len(nome_curto) < len(nova_lista[i]):\n",
        "      nome_curto = nova_lista[i]\n",
        "      pos -= 1\n",
        "      \n",
        "    else:\n",
        "      pos -= 1\n",
        "      \n",
        "\n",
        "  return nome_curto"
      ],
      "execution_count": 52,
      "outputs": []
    },
    {
      "cell_type": "code",
      "metadata": {
        "id": "DLEYl9AH7TbQ",
        "colab": {
          "base_uri": "https://localhost:8080/",
          "height": 35
        },
        "outputId": "5df07ec7-f8a8-47ce-8752-6520267c72d4"
      },
      "source": [
        "lista_de_nomes = ['  anas', 'jose  ', 'bob  ', '  arquibaldo ', 'alex   ']\n",
        "mais_curto(lista_de_nomes)"
      ],
      "execution_count": 53,
      "outputs": [
        {
          "output_type": "execute_result",
          "data": {
            "application/vnd.google.colaboratory.intrinsic+json": {
              "type": "string"
            },
            "text/plain": [
              "'Arquibaldo'"
            ]
          },
          "metadata": {
            "tags": []
          },
          "execution_count": 53
        }
      ]
    },
    {
      "cell_type": "markdown",
      "metadata": {
        "id": "raH99vvOePAH"
      },
      "source": [
        "# Tarefa de programação: Lista de exercícios - 2"
      ]
    },
    {
      "cell_type": "markdown",
      "metadata": {
        "id": "gn_RrfETeRGB"
      },
      "source": [
        "### Exercício 1: Letras maiúsculas\n",
        "Escreva a função maiusculas(frase) que recebe uma frase (uma string) como parâmetro e devolve uma string com as letras maiúsculas que existem nesta frase, na ordem em que elas aparecem.\n",
        "\n",
        "Para resolver este exercício, pode ser útil verificar uma tabela ASCII, que contém os valores de cada caractere. Ver https://pt.wikipedia.org/wiki/ASCII\n",
        "\n",
        "Note que para simplificar a solução do exercício, as frases passadas para a sua função não possuirão caracteres que não estejam presentes na tabela ASCII apresentada, como ç, á, É, ã, etc.\n",
        "\n",
        "exemplo:\n",
        "\n",
        "\n",
        "```\n",
        "maiusculas('Programamos em python 2?')\n",
        "# deve devolver 'P'\n",
        "\n",
        "maiusculas('Programamos em Python 3.')\n",
        "# deve devolver 'PP'\n",
        "\n",
        "maiusculas('PrOgRaMaMoS em python!')\n",
        "# deve devolver 'PORMMS'\n",
        "```\n",
        "\n"
      ]
    },
    {
      "cell_type": "code",
      "metadata": {
        "id": "C1QAnrZXPT78"
      },
      "source": [
        "def maiusculas(frase):\n",
        "  frase1 = frase.upper()\n",
        "  pos = 0\n",
        "  resposta = ''\n",
        "  for i in frase:\n",
        "    if ord(i) > 64 and ord(i) < 91:\n",
        "      resposta += i\n",
        "   \n",
        "    \n",
        "  return resposta.upper()\n",
        "    "
      ],
      "execution_count": 87,
      "outputs": []
    },
    {
      "cell_type": "code",
      "metadata": {
        "colab": {
          "base_uri": "https://localhost:8080/",
          "height": 35
        },
        "id": "3gGiqOs0fQWK",
        "outputId": "0a184748-a91f-4515-ecd4-50fa0d82ee83"
      },
      "source": [
        "maiusculas('Programamos em Python 3.')"
      ],
      "execution_count": 90,
      "outputs": [
        {
          "output_type": "execute_result",
          "data": {
            "application/vnd.google.colaboratory.intrinsic+json": {
              "type": "string"
            },
            "text/plain": [
              "'PP'"
            ]
          },
          "metadata": {
            "tags": []
          },
          "execution_count": 90
        }
      ]
    },
    {
      "cell_type": "markdown",
      "metadata": {
        "id": "A4ZKx_Zkjn3b"
      },
      "source": [
        "### Exercício 2: Menor nome\n",
        "Como pedido no primeiro vídeo desta semana, escreva uma função menor_nome(nomes) que recebe uma lista de strings com nome de pessoas como parâmetro e devolve o nome mais curto presente na lista.\n",
        "\n",
        "A função deve ignorar espaços antes e depois do nome e deve devolver o menor nome presente na lista. Este nome deve ser devolvido com a primeira letra maiúscula e seus demais caracteres minúsculos, independente de como tenha sido apresentado na lista passada para a função.\n",
        "\n",
        "Quando houver mais de um nome com o menor comprimento dentre os nomes na lista, a função deve devolver o primeiro nome com o menor comprimento presente na lista.\n",
        "\n",
        "Exemplos:\n",
        "\n",
        "\n",
        "```\n",
        "menor_nome(['maria', 'josé', 'PAULO', 'Catarina'])\n",
        "# deve devolver 'José'\n",
        "\n",
        "menor_nome(['maria', ' josé  ', '  PAULO', 'Catarina  '])\n",
        "# deve devolver 'José'\n",
        "\n",
        "menor_nome(['Bárbara', 'JOSÉ  ', 'Bill'])\n",
        "# deve devolver José\n",
        "```\n",
        "\n"
      ]
    },
    {
      "cell_type": "code",
      "metadata": {
        "id": "U9Yq_xTBhJFH"
      },
      "source": [
        "def menor_nome(lista):\n",
        "  nova_lista = []\n",
        "  pos = 0\n",
        "  nome = []\n",
        "  i = 0\n",
        "  for i in lista:\n",
        "    nova_lista.append(i.strip().capitalize())\n",
        "\n",
        "  nome_menor = nova_lista[pos]\n",
        "\n",
        "\n",
        "  \n",
        "  # aqui tambem ja posso remover os espacos\n",
        "  for nome in  nova_lista:\n",
        "    if len(nome) < len(nome_menor):\n",
        "      nome_menor = nome\n",
        "\n",
        "\n",
        "\n",
        "  return nome_menor"
      ],
      "execution_count": 101,
      "outputs": []
    },
    {
      "cell_type": "code",
      "metadata": {
        "colab": {
          "base_uri": "https://localhost:8080/",
          "height": 35
        },
        "id": "nYsbvPmBn9AZ",
        "outputId": "de0fb500-eb67-4648-d5e2-a15dd4748496"
      },
      "source": [
        "menor_nome(['  ana', 'jose  ', 'bob  ', '  arquibaldo ', 'al   '])"
      ],
      "execution_count": 102,
      "outputs": [
        {
          "output_type": "execute_result",
          "data": {
            "application/vnd.google.colaboratory.intrinsic+json": {
              "type": "string"
            },
            "text/plain": [
              "'Al'"
            ]
          },
          "metadata": {
            "tags": []
          },
          "execution_count": 102
        }
      ]
    },
    {
      "cell_type": "markdown",
      "metadata": {
        "id": "f8CgmIAdpukw"
      },
      "source": [
        "## Exercícios adicionais (opcionais)"
      ]
    },
    {
      "cell_type": "markdown",
      "metadata": {
        "id": "Nb5dGXV_pwSI"
      },
      "source": [
        "## Exercício 1: Contando vogais ou consoantes\n",
        "Escreva a função conta_letras(frase, contar=\"vogais\"), que recebe como primeiro parâmetro uma string contendo uma frase e como segundo parâmetro uma outra string. Este segundo parâmetro deve ser opcional.\n",
        "\n",
        "Quando o segundo parâmetro for definido como \"vogais\", a função deve devolver o numero de vogais presentes na frase. Quando ele for definido como \"consoantes\", a função deve devolver o número de consoantes presentes na frase. Se este parâmetro não for passado para a função, deve-se assumir o valor \"vogais\" para o parâmetro.\n",
        "\n",
        "Exemplos:\n",
        "\n",
        "\n",
        "```\n",
        "conta_letras('programamos em python')\n",
        "# deve devolver 6\n",
        "\n",
        "conta_letras('programamos em python', 'vogais')\n",
        "# deve devolver 6\n",
        "\n",
        "conta_letras('programamos em python', 'consoantes')\n",
        "# deve devolver 13\n",
        "```\n",
        "\n"
      ]
    },
    {
      "cell_type": "code",
      "metadata": {
        "id": "RqpOpnigp4JQ"
      },
      "source": [
        "def conta_letras(frase, parametro='vogais'):\n",
        "   \n",
        "  vogal = 0\n",
        "  consoant = 0\n",
        "  frases1 = frase.strip()\n",
        "  print(frases1)\n",
        "  for letra in frases1:\n",
        "    if letra.upper() == \"A\" or letra.upper() == \"E\" or letra.upper() == \"I\" or letra.upper() == \"O\" or letra.upper() == \"U\":\n",
        "      vogal += 1\n",
        "    elif letra == ' ':\n",
        "      pass\n",
        "    else:\n",
        "      consoant += 1\n",
        "\n",
        "  if parametro == 'vogais':\n",
        "    return vogal\n",
        "  elif parametro == 'consoantes':\n",
        "    return consoant\n",
        "  else:\n",
        "    return \"paramentro errado\""
      ],
      "execution_count": 161,
      "outputs": []
    },
    {
      "cell_type": "code",
      "metadata": {
        "colab": {
          "base_uri": "https://localhost:8080/"
        },
        "id": "UHCMXLDaq0CI",
        "outputId": "36b20003-0f1a-4a2b-f3fc-25e18179f3b9"
      },
      "source": [
        "conta_letras('programamos em python', 'consoantes')"
      ],
      "execution_count": 162,
      "outputs": [
        {
          "output_type": "stream",
          "text": [
            "programamos em python\n"
          ],
          "name": "stdout"
        },
        {
          "output_type": "execute_result",
          "data": {
            "text/plain": [
              "13"
            ]
          },
          "metadata": {
            "tags": []
          },
          "execution_count": 162
        }
      ]
    },
    {
      "cell_type": "markdown",
      "metadata": {
        "id": "0jWhHd5kuOMc"
      },
      "source": [
        "## Exercício 2: Ordem lexicográfica\n",
        "Como pedido no segundo vídeo da semana, escreva a função primeiro_lex(lista) que recebe uma lista de strings como parâmetro e devolve o primeiro string na ordem lexicográfica. Neste exercício, considere letras maiúsculas e minúsculas.\n",
        "\n",
        "Dica: revise a segunda vídeo-aula desta semana.\n",
        "\n",
        "Exemplos:\n",
        "\n",
        "\n",
        "```\n",
        "primeiro_lex(['oĺá', 'A', 'a', 'casa'])\n",
        "# deve devolver 'A'\n",
        "\n",
        "primeiro_lex(['AAAAAA', 'b'])\n",
        "# deve devolver 'AAAAAA'\n",
        "```\n",
        "\n"
      ]
    },
    {
      "cell_type": "code",
      "metadata": {
        "id": "bvdlwP8KuVoG"
      },
      "source": [
        "def primeiro_lex(lista):\n",
        "  pos = 1\n",
        "  primeiro = lista[0]\n",
        "  for nome in lista:\n",
        "\n",
        "    if ord(nome[0]) < ord(primeiro[0]):\n",
        "      primeiro = nome\n",
        "    else:\n",
        "      pos += 1\n",
        "  return primeiro"
      ],
      "execution_count": 145,
      "outputs": []
    },
    {
      "cell_type": "code",
      "metadata": {
        "colab": {
          "base_uri": "https://localhost:8080/",
          "height": 35
        },
        "id": "uBCHxRocMzNA",
        "outputId": "91d41764-3b22-4587-9b36-e3c849dd87d9"
      },
      "source": [
        "primeiro_lex(['oĺá', 'B', 'a', 'casa', 'A'])"
      ],
      "execution_count": 149,
      "outputs": [
        {
          "output_type": "execute_result",
          "data": {
            "application/vnd.google.colaboratory.intrinsic+json": {
              "type": "string"
            },
            "text/plain": [
              "'A'"
            ]
          },
          "metadata": {
            "tags": []
          },
          "execution_count": 149
        }
      ]
    }
  ]
}