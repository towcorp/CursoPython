{
  "nbformat": 4,
  "nbformat_minor": 0,
  "metadata": {
    "colab": {
      "name": "Analise_Exploratoria.ipynb",
      "provenance": [],
      "toc_visible": true,
      "authorship_tag": "ABX9TyNbXr8U4F4rgPJPhYf8pRbs",
      "include_colab_link": true
    },
    "kernelspec": {
      "name": "python3",
      "display_name": "Python 3"
    }
  },
  "cells": [
    {
      "cell_type": "markdown",
      "metadata": {
        "id": "view-in-github",
        "colab_type": "text"
      },
      "source": [
        "<a href=\"https://colab.research.google.com/github/towcorp/CursoPython/blob/master/Analise_Exploratoria.ipynb\" target=\"_parent\"><img src=\"https://colab.research.google.com/assets/colab-badge.svg\" alt=\"Open In Colab\"/></a>"
      ]
    },
    {
      "cell_type": "markdown",
      "metadata": {
        "id": "WXtnISp0mmRK",
        "colab_type": "text"
      },
      "source": [
        "# Analise Exploratória"
      ]
    },
    {
      "cell_type": "code",
      "metadata": {
        "id": "uJU_u6Z8mkzf",
        "colab_type": "code",
        "colab": {}
      },
      "source": [
        "import pandas as pd\n",
        "import matplotlib.pyplot as plt\n",
        "plt.style.use('seaborn')"
      ],
      "execution_count": 1,
      "outputs": []
    },
    {
      "cell_type": "code",
      "metadata": {
        "id": "g47rCcrQmlOk",
        "colab_type": "code",
        "colab": {
          "resources": {
            "http://localhost:8080/nbextensions/google.colab/files.js": {
              "data": "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",
              "ok": true,
              "headers": [
                [
                  "content-type",
                  "application/javascript"
                ]
              ],
              "status": 200,
              "status_text": ""
            }
          },
          "base_uri": "https://localhost:8080/",
          "height": 72
        },
        "outputId": "a63d1aeb-12b9-415a-cb25-e718c3f72a38"
      },
      "source": [
        "# Upload de arquivos\n",
        "from google.colab import files\n",
        "arq = files.upload()"
      ],
      "execution_count": 38,
      "outputs": [
        {
          "output_type": "display_data",
          "data": {
            "text/html": [
              "\n",
              "     <input type=\"file\" id=\"files-ad77738d-221f-460a-9281-5d07a377c99a\" name=\"files[]\" multiple disabled\n",
              "        style=\"border:none\" />\n",
              "     <output id=\"result-ad77738d-221f-460a-9281-5d07a377c99a\">\n",
              "      Upload widget is only available when the cell has been executed in the\n",
              "      current browser session. Please rerun this cell to enable.\n",
              "      </output>\n",
              "      <script src=\"/nbextensions/google.colab/files.js\"></script> "
            ],
            "text/plain": [
              "<IPython.core.display.HTML object>"
            ]
          },
          "metadata": {
            "tags": []
          }
        },
        {
          "output_type": "stream",
          "text": [
            "Saving Vendas.xlsx to Vendas (1).xlsx\n"
          ],
          "name": "stdout"
        }
      ]
    },
    {
      "cell_type": "code",
      "metadata": {
        "id": "-U3iV9GwnYYQ",
        "colab_type": "code",
        "colab": {}
      },
      "source": [
        "# Criando o DataFrame\n",
        "df = pd.read_excel('Vendas.xlsx')"
      ],
      "execution_count": 3,
      "outputs": []
    },
    {
      "cell_type": "code",
      "metadata": {
        "id": "KmrgO6HVnq42",
        "colab_type": "code",
        "colab": {
          "base_uri": "https://localhost:8080/",
          "height": 343
        },
        "outputId": "1d0b314d-de23-4fbc-99a4-3915d81f9d3f"
      },
      "source": [
        "# Visualizar primeiras linas\n",
        "df.head()"
      ],
      "execution_count": 37,
      "outputs": [
        {
          "output_type": "execute_result",
          "data": {
            "text/html": [
              "<div>\n",
              "<style scoped>\n",
              "    .dataframe tbody tr th:only-of-type {\n",
              "        vertical-align: middle;\n",
              "    }\n",
              "\n",
              "    .dataframe tbody tr th {\n",
              "        vertical-align: top;\n",
              "    }\n",
              "\n",
              "    .dataframe thead th {\n",
              "        text-align: right;\n",
              "    }\n",
              "</style>\n",
              "<table border=\"1\" class=\"dataframe\">\n",
              "  <thead>\n",
              "    <tr style=\"text-align: right;\">\n",
              "      <th></th>\n",
              "      <th>ID-Produto</th>\n",
              "      <th>Produto</th>\n",
              "      <th>Categoria</th>\n",
              "      <th>Segmento</th>\n",
              "      <th>Fabricante</th>\n",
              "      <th>Loja</th>\n",
              "      <th>Cidade</th>\n",
              "      <th>Estado</th>\n",
              "      <th>Vendedor</th>\n",
              "      <th>ID-Vendedor</th>\n",
              "      <th>Data Venda</th>\n",
              "      <th>ValorVenda</th>\n",
              "      <th>Comissao</th>\n",
              "    </tr>\n",
              "  </thead>\n",
              "  <tbody>\n",
              "    <tr>\n",
              "      <th>0</th>\n",
              "      <td>SKU-0000001</td>\n",
              "      <td>LG K10 TV Power</td>\n",
              "      <td>Celulares</td>\n",
              "      <td>Corporativo</td>\n",
              "      <td>LG</td>\n",
              "      <td>SP8821</td>\n",
              "      <td>São Paulo</td>\n",
              "      <td>São Paulo</td>\n",
              "      <td>Ana Teixeira</td>\n",
              "      <td>1009</td>\n",
              "      <td>2012-10-04</td>\n",
              "      <td>679.00</td>\n",
              "      <td>67.90</td>\n",
              "    </tr>\n",
              "    <tr>\n",
              "      <th>1</th>\n",
              "      <td>SKU-0000002</td>\n",
              "      <td>Geladeira Duplex</td>\n",
              "      <td>Eletrodomésticos</td>\n",
              "      <td>Doméstico</td>\n",
              "      <td>Brastemp</td>\n",
              "      <td>SP8821</td>\n",
              "      <td>São Paulo</td>\n",
              "      <td>São Paulo</td>\n",
              "      <td>Josias Silva</td>\n",
              "      <td>1006</td>\n",
              "      <td>2012-01-01</td>\n",
              "      <td>832.00</td>\n",
              "      <td>83.20</td>\n",
              "    </tr>\n",
              "    <tr>\n",
              "      <th>2</th>\n",
              "      <td>SKU-0000003</td>\n",
              "      <td>Lavadora 11 Kg</td>\n",
              "      <td>Eletrodomésticos</td>\n",
              "      <td>Doméstico</td>\n",
              "      <td>Brastemp</td>\n",
              "      <td>SP8821</td>\n",
              "      <td>São Paulo</td>\n",
              "      <td>São Paulo</td>\n",
              "      <td>Josias Silva</td>\n",
              "      <td>1006</td>\n",
              "      <td>2012-02-02</td>\n",
              "      <td>790.00</td>\n",
              "      <td>79.00</td>\n",
              "    </tr>\n",
              "    <tr>\n",
              "      <th>3</th>\n",
              "      <td>SKU-0000004</td>\n",
              "      <td>Lavadora 11 Kg</td>\n",
              "      <td>Eletrodomésticos</td>\n",
              "      <td>Doméstico</td>\n",
              "      <td>Brastemp</td>\n",
              "      <td>SP8821</td>\n",
              "      <td>São Paulo</td>\n",
              "      <td>São Paulo</td>\n",
              "      <td>Mateus Gonçalves</td>\n",
              "      <td>1003</td>\n",
              "      <td>2012-03-03</td>\n",
              "      <td>765.32</td>\n",
              "      <td>76.53</td>\n",
              "    </tr>\n",
              "    <tr>\n",
              "      <th>4</th>\n",
              "      <td>SKU-0000005</td>\n",
              "      <td>Lavadora 11 Kg</td>\n",
              "      <td>Eletrodomésticos</td>\n",
              "      <td>Doméstico</td>\n",
              "      <td>Electrolux</td>\n",
              "      <td>SP8821</td>\n",
              "      <td>São Paulo</td>\n",
              "      <td>São Paulo</td>\n",
              "      <td>Artur Moreira</td>\n",
              "      <td>1004</td>\n",
              "      <td>2012-04-04</td>\n",
              "      <td>459.89</td>\n",
              "      <td>45.99</td>\n",
              "    </tr>\n",
              "  </tbody>\n",
              "</table>\n",
              "</div>"
            ],
            "text/plain": [
              "    ID-Produto           Produto  ... ValorVenda Comissao\n",
              "0  SKU-0000001   LG K10 TV Power  ...     679.00    67.90\n",
              "1  SKU-0000002  Geladeira Duplex  ...     832.00    83.20\n",
              "2  SKU-0000003    Lavadora 11 Kg  ...     790.00    79.00\n",
              "3  SKU-0000004    Lavadora 11 Kg  ...     765.32    76.53\n",
              "4  SKU-0000005    Lavadora 11 Kg  ...     459.89    45.99\n",
              "\n",
              "[5 rows x 13 columns]"
            ]
          },
          "metadata": {
            "tags": []
          },
          "execution_count": 37
        }
      ]
    },
    {
      "cell_type": "code",
      "metadata": {
        "id": "bK-vqywJnwyn",
        "colab_type": "code",
        "colab": {
          "base_uri": "https://localhost:8080/",
          "height": 34
        },
        "outputId": "6033f96a-b281-443d-dc7e-46060810ba33"
      },
      "source": [
        "# quantidade de linhas e colunas\n",
        "df.shape"
      ],
      "execution_count": 9,
      "outputs": [
        {
          "output_type": "execute_result",
          "data": {
            "text/plain": [
              "(457, 12)"
            ]
          },
          "metadata": {
            "tags": []
          },
          "execution_count": 9
        }
      ]
    },
    {
      "cell_type": "code",
      "metadata": {
        "id": "rIxI4wDFny2p",
        "colab_type": "code",
        "colab": {
          "base_uri": "https://localhost:8080/",
          "height": 238
        },
        "outputId": "675c62da-f254-491a-87c8-e55e6d3d7f90"
      },
      "source": [
        "# tipos de dados nas colunas\n",
        "df.dtypes"
      ],
      "execution_count": 6,
      "outputs": [
        {
          "output_type": "execute_result",
          "data": {
            "text/plain": [
              "ID-Produto             object\n",
              "Produto                object\n",
              "Categoria              object\n",
              "Segmento               object\n",
              "Fabricante             object\n",
              "Loja                   object\n",
              "Cidade                 object\n",
              "Estado                 object\n",
              "Vendedor               object\n",
              "ID-Vendedor             int64\n",
              "Data Venda     datetime64[ns]\n",
              "ValorVenda            float64\n",
              "dtype: object"
            ]
          },
          "metadata": {
            "tags": []
          },
          "execution_count": 6
        }
      ]
    },
    {
      "cell_type": "code",
      "metadata": {
        "id": "21JZoK0mn48g",
        "colab_type": "code",
        "colab": {
          "base_uri": "https://localhost:8080/",
          "height": 34
        },
        "outputId": "a8c47361-f199-463c-aa8c-161353e080a6"
      },
      "source": [
        "# Qual a receita total?\n",
        "df['ValorVenda'].sum()"
      ],
      "execution_count": 7,
      "outputs": [
        {
          "output_type": "execute_result",
          "data": {
            "text/plain": [
              "361081.11"
            ]
          },
          "metadata": {
            "tags": []
          },
          "execution_count": 7
        }
      ]
    },
    {
      "cell_type": "code",
      "metadata": {
        "id": "itnQIshfoZHf",
        "colab_type": "code",
        "colab": {
          "base_uri": "https://localhost:8080/",
          "height": 643
        },
        "outputId": "684c13e1-5b99-478a-ef76-8e1a5ac83149"
      },
      "source": [
        "# Quanto cada vendedor receberá de comissao sendo 8%?\n",
        "df['Comissao'] = df['ValorVenda'].mul(0.08)\n",
        "df['Comissao'] = round(df['Comissao'], 2)\n",
        "df"
      ],
      "execution_count": 132,
      "outputs": [
        {
          "output_type": "execute_result",
          "data": {
            "text/html": [
              "<div>\n",
              "<style scoped>\n",
              "    .dataframe tbody tr th:only-of-type {\n",
              "        vertical-align: middle;\n",
              "    }\n",
              "\n",
              "    .dataframe tbody tr th {\n",
              "        vertical-align: top;\n",
              "    }\n",
              "\n",
              "    .dataframe thead th {\n",
              "        text-align: right;\n",
              "    }\n",
              "</style>\n",
              "<table border=\"1\" class=\"dataframe\">\n",
              "  <thead>\n",
              "    <tr style=\"text-align: right;\">\n",
              "      <th></th>\n",
              "      <th>ID-Produto</th>\n",
              "      <th>Produto</th>\n",
              "      <th>Categoria</th>\n",
              "      <th>Segmento</th>\n",
              "      <th>Fabricante</th>\n",
              "      <th>Loja</th>\n",
              "      <th>Cidade</th>\n",
              "      <th>Estado</th>\n",
              "      <th>Vendedor</th>\n",
              "      <th>ID-Vendedor</th>\n",
              "      <th>Data Venda</th>\n",
              "      <th>ValorVenda</th>\n",
              "      <th>Comissao</th>\n",
              "    </tr>\n",
              "  </thead>\n",
              "  <tbody>\n",
              "    <tr>\n",
              "      <th>0</th>\n",
              "      <td>SKU-0000001</td>\n",
              "      <td>LG K10 TV Power</td>\n",
              "      <td>Celulares</td>\n",
              "      <td>Corporativo</td>\n",
              "      <td>LG</td>\n",
              "      <td>SP8821</td>\n",
              "      <td>São Paulo</td>\n",
              "      <td>São Paulo</td>\n",
              "      <td>Ana Teixeira</td>\n",
              "      <td>1009</td>\n",
              "      <td>2012-10-04</td>\n",
              "      <td>679.00</td>\n",
              "      <td>54.32</td>\n",
              "    </tr>\n",
              "    <tr>\n",
              "      <th>1</th>\n",
              "      <td>SKU-0000002</td>\n",
              "      <td>Geladeira Duplex</td>\n",
              "      <td>Eletrodomésticos</td>\n",
              "      <td>Doméstico</td>\n",
              "      <td>Brastemp</td>\n",
              "      <td>SP8821</td>\n",
              "      <td>São Paulo</td>\n",
              "      <td>São Paulo</td>\n",
              "      <td>Josias Silva</td>\n",
              "      <td>1006</td>\n",
              "      <td>2012-01-01</td>\n",
              "      <td>832.00</td>\n",
              "      <td>66.56</td>\n",
              "    </tr>\n",
              "    <tr>\n",
              "      <th>2</th>\n",
              "      <td>SKU-0000003</td>\n",
              "      <td>Lavadora 11 Kg</td>\n",
              "      <td>Eletrodomésticos</td>\n",
              "      <td>Doméstico</td>\n",
              "      <td>Brastemp</td>\n",
              "      <td>SP8821</td>\n",
              "      <td>São Paulo</td>\n",
              "      <td>São Paulo</td>\n",
              "      <td>Josias Silva</td>\n",
              "      <td>1006</td>\n",
              "      <td>2012-02-02</td>\n",
              "      <td>790.00</td>\n",
              "      <td>63.20</td>\n",
              "    </tr>\n",
              "    <tr>\n",
              "      <th>3</th>\n",
              "      <td>SKU-0000004</td>\n",
              "      <td>Lavadora 11 Kg</td>\n",
              "      <td>Eletrodomésticos</td>\n",
              "      <td>Doméstico</td>\n",
              "      <td>Brastemp</td>\n",
              "      <td>SP8821</td>\n",
              "      <td>São Paulo</td>\n",
              "      <td>São Paulo</td>\n",
              "      <td>Mateus Gonçalves</td>\n",
              "      <td>1003</td>\n",
              "      <td>2012-03-03</td>\n",
              "      <td>765.32</td>\n",
              "      <td>61.23</td>\n",
              "    </tr>\n",
              "    <tr>\n",
              "      <th>4</th>\n",
              "      <td>SKU-0000005</td>\n",
              "      <td>Lavadora 11 Kg</td>\n",
              "      <td>Eletrodomésticos</td>\n",
              "      <td>Doméstico</td>\n",
              "      <td>Electrolux</td>\n",
              "      <td>SP8821</td>\n",
              "      <td>São Paulo</td>\n",
              "      <td>São Paulo</td>\n",
              "      <td>Artur Moreira</td>\n",
              "      <td>1004</td>\n",
              "      <td>2012-04-04</td>\n",
              "      <td>459.89</td>\n",
              "      <td>36.79</td>\n",
              "    </tr>\n",
              "    <tr>\n",
              "      <th>...</th>\n",
              "      <td>...</td>\n",
              "      <td>...</td>\n",
              "      <td>...</td>\n",
              "      <td>...</td>\n",
              "      <td>...</td>\n",
              "      <td>...</td>\n",
              "      <td>...</td>\n",
              "      <td>...</td>\n",
              "      <td>...</td>\n",
              "      <td>...</td>\n",
              "      <td>...</td>\n",
              "      <td>...</td>\n",
              "      <td>...</td>\n",
              "    </tr>\n",
              "    <tr>\n",
              "      <th>452</th>\n",
              "      <td>SKU-0000453</td>\n",
              "      <td>Geladeira Duplex</td>\n",
              "      <td>Eletrodomésticos</td>\n",
              "      <td>Doméstico</td>\n",
              "      <td>Brastemp</td>\n",
              "      <td>R1295</td>\n",
              "      <td>Rio de Janeiro</td>\n",
              "      <td>Rio de Janeiro</td>\n",
              "      <td>André Pereira</td>\n",
              "      <td>1002</td>\n",
              "      <td>2015-09-23</td>\n",
              "      <td>1234.00</td>\n",
              "      <td>98.72</td>\n",
              "    </tr>\n",
              "    <tr>\n",
              "      <th>453</th>\n",
              "      <td>SKU-0000454</td>\n",
              "      <td>Geladeira Duplex</td>\n",
              "      <td>Eletrodomésticos</td>\n",
              "      <td>Doméstico</td>\n",
              "      <td>Brastemp</td>\n",
              "      <td>R1295</td>\n",
              "      <td>Rio de Janeiro</td>\n",
              "      <td>Rio de Janeiro</td>\n",
              "      <td>André Pereira</td>\n",
              "      <td>1002</td>\n",
              "      <td>2015-10-24</td>\n",
              "      <td>1234.00</td>\n",
              "      <td>98.72</td>\n",
              "    </tr>\n",
              "    <tr>\n",
              "      <th>454</th>\n",
              "      <td>SKU-0000455</td>\n",
              "      <td>Morotola Moto G5</td>\n",
              "      <td>Celulares</td>\n",
              "      <td>Doméstico</td>\n",
              "      <td>Motorola</td>\n",
              "      <td>R1295</td>\n",
              "      <td>Rio de Janeiro</td>\n",
              "      <td>Rio de Janeiro</td>\n",
              "      <td>Aline Sutter</td>\n",
              "      <td>1008</td>\n",
              "      <td>2015-11-25</td>\n",
              "      <td>1230.00</td>\n",
              "      <td>98.40</td>\n",
              "    </tr>\n",
              "    <tr>\n",
              "      <th>455</th>\n",
              "      <td>SKU-0000456</td>\n",
              "      <td>Geladeira Duplex</td>\n",
              "      <td>Eletrodomésticos</td>\n",
              "      <td>Doméstico</td>\n",
              "      <td>Brastemp</td>\n",
              "      <td>R1295</td>\n",
              "      <td>Rio de Janeiro</td>\n",
              "      <td>Rio de Janeiro</td>\n",
              "      <td>André Pereira</td>\n",
              "      <td>1002</td>\n",
              "      <td>2015-11-26</td>\n",
              "      <td>1234.00</td>\n",
              "      <td>98.72</td>\n",
              "    </tr>\n",
              "    <tr>\n",
              "      <th>456</th>\n",
              "      <td>SKU-0000457</td>\n",
              "      <td>Geladeira Duplex</td>\n",
              "      <td>Eletrodomésticos</td>\n",
              "      <td>Doméstico</td>\n",
              "      <td>Brastemp</td>\n",
              "      <td>R1295</td>\n",
              "      <td>Rio de Janeiro</td>\n",
              "      <td>Rio de Janeiro</td>\n",
              "      <td>André Pereira</td>\n",
              "      <td>1002</td>\n",
              "      <td>2015-11-27</td>\n",
              "      <td>1234.00</td>\n",
              "      <td>98.72</td>\n",
              "    </tr>\n",
              "  </tbody>\n",
              "</table>\n",
              "<p>457 rows × 13 columns</p>\n",
              "</div>"
            ],
            "text/plain": [
              "      ID-Produto           Produto  ... ValorVenda Comissao\n",
              "0    SKU-0000001   LG K10 TV Power  ...     679.00    54.32\n",
              "1    SKU-0000002  Geladeira Duplex  ...     832.00    66.56\n",
              "2    SKU-0000003    Lavadora 11 Kg  ...     790.00    63.20\n",
              "3    SKU-0000004    Lavadora 11 Kg  ...     765.32    61.23\n",
              "4    SKU-0000005    Lavadora 11 Kg  ...     459.89    36.79\n",
              "..           ...               ...  ...        ...      ...\n",
              "452  SKU-0000453  Geladeira Duplex  ...    1234.00    98.72\n",
              "453  SKU-0000454  Geladeira Duplex  ...    1234.00    98.72\n",
              "454  SKU-0000455  Morotola Moto G5  ...    1230.00    98.40\n",
              "455  SKU-0000456  Geladeira Duplex  ...    1234.00    98.72\n",
              "456  SKU-0000457  Geladeira Duplex  ...    1234.00    98.72\n",
              "\n",
              "[457 rows x 13 columns]"
            ]
          },
          "metadata": {
            "tags": []
          },
          "execution_count": 132
        }
      ]
    },
    {
      "cell_type": "code",
      "metadata": {
        "id": "Tk644jbEqerw",
        "colab_type": "code",
        "colab": {
          "base_uri": "https://localhost:8080/",
          "height": 748
        },
        "outputId": "a5269c5d-23d9-4ace-b88c-25a026a4065c"
      },
      "source": [
        "# Qual os produtos mais vendidos por ano?\n",
        "df.groupby([df['Data Venda'].dt.year, 'Produto'])[\"ValorVenda\"].sum()"
      ],
      "execution_count": 80,
      "outputs": [
        {
          "output_type": "execute_result",
          "data": {
            "text/plain": [
              "Data Venda  Produto                 \n",
              "2012        Desktop HP 16 GB             2134.12\n",
              "            Forno-Micro-Ondas            1345.00\n",
              "            Geladeira Duplex            12070.89\n",
              "            Grill                         234.00\n",
              "            LG K10 TV Power               679.00\n",
              "            Lavadora 11 Kg               2606.19\n",
              "            Micro-Ondas                  5611.00\n",
              "            Notebook Dell 8 GB          12823.54\n",
              "2013        Ar Condicionado              6456.00\n",
              "            Aspirador                    2655.00\n",
              "            Desktop HP 16 GB            12431.99\n",
              "            Forno-Micro-Ondas            3037.89\n",
              "            Fritadeira                    297.00\n",
              "            Geladeira Duplex            29765.56\n",
              "            Grill                         477.00\n",
              "            Impressora Deskjet           7077.44\n",
              "            Lavadora 11 Kg              10503.57\n",
              "            Micro-Ondas                  2145.00\n",
              "            Samsung Galaxy 8             9897.00\n",
              "            Secadora Vapor               7976.11\n",
              "            Sony Experia XA               699.00\n",
              "2014        Aspirador                    3013.00\n",
              "            Forno-Micro-Ondas            2217.90\n",
              "            Fritadeira                    911.00\n",
              "            Geladeira Duplex            23503.00\n",
              "            Grill                        1188.00\n",
              "            Micro-Ondas                  6195.12\n",
              "            Morotola Moto G5             6150.00\n",
              "            Processador de Alimentos      149.00\n",
              "            Samsung Galaxy 8            19995.00\n",
              "2015        Ar Condicionado              8150.00\n",
              "            Aspirador                    4705.45\n",
              "            Fritadeira                   1467.00\n",
              "            Geladeira Duplex            56484.87\n",
              "            Impressora Deskjet          13862.46\n",
              "            Liquidificador               1136.00\n",
              "            Micro-Ondas                 14797.01\n",
              "            Morotola Moto G5            29520.00\n",
              "            Processador de Alimentos     1788.00\n",
              "            Samsung Galaxy 8            31992.00\n",
              "            Ventilador                   2934.00\n",
              "Name: ValorVenda, dtype: float64"
            ]
          },
          "metadata": {
            "tags": []
          },
          "execution_count": 80
        }
      ]
    },
    {
      "cell_type": "code",
      "metadata": {
        "id": "3c0q1L_x0Ed9",
        "colab_type": "code",
        "colab": {
          "base_uri": "https://localhost:8080/",
          "height": 357
        },
        "outputId": "68bae426-6d6c-4d28-bfb6-f5cafba2e304"
      },
      "source": [
        "#Qual total de produdos vendidos?\n",
        "df['Produto'].value_counts(ascending=False)"
      ],
      "execution_count": 95,
      "outputs": [
        {
          "output_type": "execute_result",
          "data": {
            "text/plain": [
              "Geladeira Duplex            110\n",
              "Aspirador                    61\n",
              "Micro-Ondas                  56\n",
              "Impressora Deskjet           36\n",
              "Morotola Moto G5             29\n",
              "Ventilador                   22\n",
              "Fritadeira                   20\n",
              "Samsung Galaxy 8             16\n",
              "Lavadora 11 Kg               16\n",
              "Desktop HP 16 GB             14\n",
              "Processador de Alimentos     13\n",
              "Secadora Vapor               12\n",
              "Ar Condicionado              12\n",
              "Forno-Micro-Ondas            11\n",
              "Notebook Dell 8 GB           10\n",
              "Grill                         9\n",
              "Liquidificador                8\n",
              "Sony Experia XA               1\n",
              "LG K10 TV Power               1\n",
              "Name: Produto, dtype: int64"
            ]
          },
          "metadata": {
            "tags": []
          },
          "execution_count": 95
        }
      ]
    },
    {
      "cell_type": "code",
      "metadata": {
        "id": "d4bmpCzs1oed",
        "colab_type": "code",
        "colab": {
          "base_uri": "https://localhost:8080/",
          "height": 374
        },
        "outputId": "c1ea37ba-f232-426b-97ad-e86902e43d70"
      },
      "source": [
        "df.groupby(\"Produto\")['ValorVenda'].sum().sort_values(ascending=False)"
      ],
      "execution_count": 96,
      "outputs": [
        {
          "output_type": "execute_result",
          "data": {
            "text/plain": [
              "Produto\n",
              "Geladeira Duplex            121824.32\n",
              "Samsung Galaxy 8             61884.00\n",
              "Morotola Moto G5             35670.00\n",
              "Micro-Ondas                  28748.13\n",
              "Impressora Deskjet           20939.90\n",
              "Ar Condicionado              14606.00\n",
              "Desktop HP 16 GB             14566.11\n",
              "Lavadora 11 Kg               13109.76\n",
              "Notebook Dell 8 GB           12823.54\n",
              "Aspirador                    10373.45\n",
              "Secadora Vapor                7976.11\n",
              "Forno-Micro-Ondas             6600.79\n",
              "Ventilador                    2934.00\n",
              "Fritadeira                    2675.00\n",
              "Processador de Alimentos      1937.00\n",
              "Grill                         1899.00\n",
              "Liquidificador                1136.00\n",
              "Sony Experia XA                699.00\n",
              "LG K10 TV Power                679.00\n",
              "Name: ValorVenda, dtype: float64"
            ]
          },
          "metadata": {
            "tags": []
          },
          "execution_count": 96
        }
      ]
    },
    {
      "cell_type": "code",
      "metadata": {
        "id": "yQ39sQOY2kKi",
        "colab_type": "code",
        "colab": {
          "base_uri": "https://localhost:8080/",
          "height": 400
        },
        "outputId": "807a3359-22ab-464f-c5f3-8841bb4a1174"
      },
      "source": [
        "# Grafico de produtos vendidos\n",
        "df.groupby(\"Produto\")['ValorVenda'].sum().sort_values(ascending=False).plot.bar(title='Produto x Venda');"
      ],
      "execution_count": 98,
      "outputs": [
        {
          "output_type": "display_data",
          "data": {
            "image/png": "[encoded data removed]",
            "text/plain": [
              "<Figure size 432x288 with 1 Axes>"
            ]
          },
          "metadata": {
            "tags": [],
            "needs_background": "light"
          }
        }
      ]
    },
    {
      "cell_type": "code",
      "metadata": {
        "id": "SXirhunV25Ol",
        "colab_type": "code",
        "colab": {
          "base_uri": "https://localhost:8080/",
          "height": 311
        },
        "outputId": "0c6d1c8b-3fb6-4682-999a-fc67db0f8592"
      },
      "source": [
        "# Receita por ano\n",
        "df.groupby(df['Data Venda'].dt.year)['ValorVenda'].sum().plot.barh(title='Lucro X Ano')\n",
        "plt.xlabel('LUCRO')\n",
        "plt.ylabel(\"ANO\")\n"
      ],
      "execution_count": 105,
      "outputs": [
        {
          "output_type": "execute_result",
          "data": {
            "text/plain": [
              "<matplotlib.legend.Legend at 0x7fd9cab8e9e8>"
            ]
          },
          "metadata": {
            "tags": []
          },
          "execution_count": 105
        },
        {
          "output_type": "display_data",
          "data": {
            "image/png": "[encoded data removed]",
            "text/plain": [
              "<Figure size 432x288 with 1 Axes>"
            ]
          },
          "metadata": {
            "tags": [],
            "needs_background": "light"
          }
        }
      ]
    },
    {
      "cell_type": "code",
      "metadata": {
        "id": "WMhTJZOW3WZW",
        "colab_type": "code",
        "colab": {}
      },
      "source": [
        "df_2013 = df[df['Data Venda'].dt.year == 2013]"
      ],
      "execution_count": 107,
      "outputs": []
    },
    {
      "cell_type": "code",
      "metadata": {
        "id": "byCRnSqk4geO",
        "colab_type": "code",
        "colab": {
          "base_uri": "https://localhost:8080/",
          "height": 311
        },
        "outputId": "7f62fdb1-c76c-4365-8a42-f34b372c64fd"
      },
      "source": [
        "# Receita de 2013\n",
        "df_2013.groupby(df_2013['Data Venda'].dt.month)['ValorVenda'].sum().plot(title='Lucro X mes')\n",
        "plt.xlabel('Mes')\n",
        "plt.ylabel(\"Lucro\")"
      ],
      "execution_count": 114,
      "outputs": [
        {
          "output_type": "execute_result",
          "data": {
            "text/plain": [
              "Text(0, 0.5, 'Lucro')"
            ]
          },
          "metadata": {
            "tags": []
          },
          "execution_count": 114
        },
        {
          "output_type": "display_data",
          "data": {
            "image/png": "[encoded data removed]",
            "text/plain": [
              "<Figure size 432x288 with 1 Axes>"
            ]
          },
          "metadata": {
            "tags": [],
            "needs_background": "light"
          }
        }
      ]
    },
    {
      "cell_type": "code",
      "metadata": {
        "id": "BrndMuiy4iMs",
        "colab_type": "code",
        "colab": {
          "base_uri": "https://localhost:8080/",
          "height": 265
        },
        "outputId": "26f8d78c-8579-4302-f11c-61ca9939cbb4"
      },
      "source": [
        "# Categorias mais vendidas\n",
        "df_2013.groupby('Categoria')['ValorVenda'].sum().plot.barh();"
      ],
      "execution_count": 118,
      "outputs": [
        {
          "output_type": "display_data",
          "data": {
            "image/png": "[encoded data removed]",
            "text/plain": [
              "<Figure size 432x288 with 1 Axes>"
            ]
          },
          "metadata": {
            "tags": [],
            "needs_background": "light"
          }
        }
      ]
    },
    {
      "cell_type": "code",
      "metadata": {
        "id": "5f9l6L945oPA",
        "colab_type": "code",
        "colab": {
          "base_uri": "https://localhost:8080/",
          "height": 170
        },
        "outputId": "12c8ef30-8f00-4d06-bae3-d38bffff984d"
      },
      "source": [
        "df['ValorVenda'].describe()"
      ],
      "execution_count": 121,
      "outputs": [
        {
          "output_type": "execute_result",
          "data": {
            "text/plain": [
              "count     457.000000\n",
              "mean      790.111838\n",
              "std       755.541075\n",
              "min        12.000000\n",
              "25%       167.000000\n",
              "50%       671.000000\n",
              "75%      1230.000000\n",
              "max      3999.000000\n",
              "Name: ValorVenda, dtype: float64"
            ]
          },
          "metadata": {
            "tags": []
          },
          "execution_count": 121
        }
      ]
    },
    {
      "cell_type": "code",
      "metadata": {
        "id": "nH26-jmR510I",
        "colab_type": "code",
        "colab": {
          "base_uri": "https://localhost:8080/",
          "height": 265
        },
        "outputId": "f575d868-b395-4033-e7b5-7da90c5e53f6"
      },
      "source": [
        "# Grafico de Boxplot\n",
        "plt.boxplot(df['ValorVenda']);\n",
        "\n"
      ],
      "execution_count": 122,
      "outputs": [
        {
          "output_type": "display_data",
          "data": {
            "image/png": "[encoded data removed]",
            "text/plain": [
              "<Figure size 432x288 with 1 Axes>"
            ]
          },
          "metadata": {
            "tags": [],
            "needs_background": "light"
          }
        }
      ]
    },
    {
      "cell_type": "code",
      "metadata": {
        "id": "nk576Eg36RdV",
        "colab_type": "code",
        "colab": {
          "base_uri": "https://localhost:8080/",
          "height": 333
        },
        "outputId": "3990c219-0d09-453d-9196-3fbcbc33d7bc"
      },
      "source": [
        "plt.hist(df['ValorVenda'])"
      ],
      "execution_count": 124,
      "outputs": [
        {
          "output_type": "execute_result",
          "data": {
            "text/plain": [
              "(array([166., 106.,  34., 132.,   4.,   0.,   0.,   0.,   0.,  15.]),\n",
              " array([  12. ,  410.7,  809.4, 1208.1, 1606.8, 2005.5, 2404.2, 2802.9,\n",
              "        3201.6, 3600.3, 3999. ]),\n",
              " <a list of 10 Patch objects>)"
            ]
          },
          "metadata": {
            "tags": []
          },
          "execution_count": 124
        },
        {
          "output_type": "display_data",
          "data": {
            "image/png": "[encoded data removed]",
            "text/plain": [
              "<Figure size 432x288 with 1 Axes>"
            ]
          },
          "metadata": {
            "tags": [],
            "needs_background": "light"
          }
        }
      ]
    },
    {
      "cell_type": "code",
      "metadata": {
        "id": "rGVk9Fwf6ejW",
        "colab_type": "code",
        "colab": {
          "base_uri": "https://localhost:8080/",
          "height": 806
        },
        "outputId": "111d5882-5d76-4a4f-f44e-68ea293aca2e"
      },
      "source": [
        "# identificar o Outlier\n",
        "df[df['ValorVenda'] > 3998]"
      ],
      "execution_count": 128,
      "outputs": [
        {
          "output_type": "execute_result",
          "data": {
            "text/html": [
              "<div>\n",
              "<style scoped>\n",
              "    .dataframe tbody tr th:only-of-type {\n",
              "        vertical-align: middle;\n",
              "    }\n",
              "\n",
              "    .dataframe tbody tr th {\n",
              "        vertical-align: top;\n",
              "    }\n",
              "\n",
              "    .dataframe thead th {\n",
              "        text-align: right;\n",
              "    }\n",
              "</style>\n",
              "<table border=\"1\" class=\"dataframe\">\n",
              "  <thead>\n",
              "    <tr style=\"text-align: right;\">\n",
              "      <th></th>\n",
              "      <th>ID-Produto</th>\n",
              "      <th>Produto</th>\n",
              "      <th>Categoria</th>\n",
              "      <th>Segmento</th>\n",
              "      <th>Fabricante</th>\n",
              "      <th>Loja</th>\n",
              "      <th>Cidade</th>\n",
              "      <th>Estado</th>\n",
              "      <th>Vendedor</th>\n",
              "      <th>ID-Vendedor</th>\n",
              "      <th>Data Venda</th>\n",
              "      <th>ValorVenda</th>\n",
              "      <th>Comissao</th>\n",
              "    </tr>\n",
              "  </thead>\n",
              "  <tbody>\n",
              "    <tr>\n",
              "      <th>147</th>\n",
              "      <td>SKU-0000148</td>\n",
              "      <td>Samsung Galaxy 8</td>\n",
              "      <td>Celulares</td>\n",
              "      <td>Corporativo</td>\n",
              "      <td>Samsung</td>\n",
              "      <td>A9990</td>\n",
              "      <td>Belo Horizonte</td>\n",
              "      <td>Minas Gerais</td>\n",
              "      <td>Maria Fernandes</td>\n",
              "      <td>1001</td>\n",
              "      <td>2013-07-21</td>\n",
              "      <td>3999.0</td>\n",
              "      <td>399.9</td>\n",
              "    </tr>\n",
              "    <tr>\n",
              "      <th>150</th>\n",
              "      <td>SKU-0000151</td>\n",
              "      <td>Samsung Galaxy 8</td>\n",
              "      <td>Celulares</td>\n",
              "      <td>Corporativo</td>\n",
              "      <td>Samsung</td>\n",
              "      <td>V7654</td>\n",
              "      <td>Vitória</td>\n",
              "      <td>Espírito Santo</td>\n",
              "      <td>Artur Moreira</td>\n",
              "      <td>1004</td>\n",
              "      <td>2013-10-24</td>\n",
              "      <td>3999.0</td>\n",
              "      <td>399.9</td>\n",
              "    </tr>\n",
              "    <tr>\n",
              "      <th>154</th>\n",
              "      <td>SKU-0000155</td>\n",
              "      <td>Samsung Galaxy 8</td>\n",
              "      <td>Celulares</td>\n",
              "      <td>Corporativo</td>\n",
              "      <td>Samsung</td>\n",
              "      <td>SP8822</td>\n",
              "      <td>São Paulo</td>\n",
              "      <td>São Paulo</td>\n",
              "      <td>Ana Teixeira</td>\n",
              "      <td>1009</td>\n",
              "      <td>2014-10-04</td>\n",
              "      <td>3999.0</td>\n",
              "      <td>399.9</td>\n",
              "    </tr>\n",
              "    <tr>\n",
              "      <th>156</th>\n",
              "      <td>SKU-0000157</td>\n",
              "      <td>Samsung Galaxy 8</td>\n",
              "      <td>Celulares</td>\n",
              "      <td>Corporativo</td>\n",
              "      <td>Samsung</td>\n",
              "      <td>SP8822</td>\n",
              "      <td>São Paulo</td>\n",
              "      <td>São Paulo</td>\n",
              "      <td>Mateus Gonçalves</td>\n",
              "      <td>1003</td>\n",
              "      <td>2014-02-02</td>\n",
              "      <td>3999.0</td>\n",
              "      <td>399.9</td>\n",
              "    </tr>\n",
              "    <tr>\n",
              "      <th>157</th>\n",
              "      <td>SKU-0000158</td>\n",
              "      <td>Samsung Galaxy 8</td>\n",
              "      <td>Celulares</td>\n",
              "      <td>Corporativo</td>\n",
              "      <td>Samsung</td>\n",
              "      <td>SP8822</td>\n",
              "      <td>São Paulo</td>\n",
              "      <td>São Paulo</td>\n",
              "      <td>Josias Silva</td>\n",
              "      <td>1006</td>\n",
              "      <td>2014-03-03</td>\n",
              "      <td>3999.0</td>\n",
              "      <td>399.9</td>\n",
              "    </tr>\n",
              "    <tr>\n",
              "      <th>158</th>\n",
              "      <td>SKU-0000159</td>\n",
              "      <td>Samsung Galaxy 8</td>\n",
              "      <td>Celulares</td>\n",
              "      <td>Corporativo</td>\n",
              "      <td>Samsung</td>\n",
              "      <td>SP8822</td>\n",
              "      <td>São Paulo</td>\n",
              "      <td>São Paulo</td>\n",
              "      <td>Artur Moreira</td>\n",
              "      <td>1004</td>\n",
              "      <td>2014-04-04</td>\n",
              "      <td>3999.0</td>\n",
              "      <td>399.9</td>\n",
              "    </tr>\n",
              "    <tr>\n",
              "      <th>159</th>\n",
              "      <td>SKU-0000160</td>\n",
              "      <td>Samsung Galaxy 8</td>\n",
              "      <td>Celulares</td>\n",
              "      <td>Corporativo</td>\n",
              "      <td>Samsung</td>\n",
              "      <td>SP8822</td>\n",
              "      <td>São Paulo</td>\n",
              "      <td>São Paulo</td>\n",
              "      <td>Artur Moreira</td>\n",
              "      <td>1004</td>\n",
              "      <td>2014-05-04</td>\n",
              "      <td>3999.0</td>\n",
              "      <td>399.9</td>\n",
              "    </tr>\n",
              "    <tr>\n",
              "      <th>169</th>\n",
              "      <td>SKU-0000170</td>\n",
              "      <td>Samsung Galaxy 8</td>\n",
              "      <td>Celulares</td>\n",
              "      <td>Corporativo</td>\n",
              "      <td>Samsung</td>\n",
              "      <td>SP8822</td>\n",
              "      <td>São Paulo</td>\n",
              "      <td>São Paulo</td>\n",
              "      <td>Maria Fernandes</td>\n",
              "      <td>1001</td>\n",
              "      <td>2015-02-02</td>\n",
              "      <td>3999.0</td>\n",
              "      <td>399.9</td>\n",
              "    </tr>\n",
              "    <tr>\n",
              "      <th>170</th>\n",
              "      <td>SKU-0000171</td>\n",
              "      <td>Samsung Galaxy 8</td>\n",
              "      <td>Celulares</td>\n",
              "      <td>Corporativo</td>\n",
              "      <td>Samsung</td>\n",
              "      <td>S6543</td>\n",
              "      <td>Osasco</td>\n",
              "      <td>São Paulo</td>\n",
              "      <td>André Pereira</td>\n",
              "      <td>1002</td>\n",
              "      <td>2015-03-02</td>\n",
              "      <td>3999.0</td>\n",
              "      <td>399.9</td>\n",
              "    </tr>\n",
              "    <tr>\n",
              "      <th>171</th>\n",
              "      <td>SKU-0000172</td>\n",
              "      <td>Samsung Galaxy 8</td>\n",
              "      <td>Celulares</td>\n",
              "      <td>Corporativo</td>\n",
              "      <td>Samsung</td>\n",
              "      <td>S6543</td>\n",
              "      <td>Osasco</td>\n",
              "      <td>São Paulo</td>\n",
              "      <td>André Pereira</td>\n",
              "      <td>1002</td>\n",
              "      <td>2015-04-02</td>\n",
              "      <td>3999.0</td>\n",
              "      <td>399.9</td>\n",
              "    </tr>\n",
              "    <tr>\n",
              "      <th>172</th>\n",
              "      <td>SKU-0000173</td>\n",
              "      <td>Samsung Galaxy 8</td>\n",
              "      <td>Celulares</td>\n",
              "      <td>Corporativo</td>\n",
              "      <td>Samsung</td>\n",
              "      <td>S6543</td>\n",
              "      <td>Osasco</td>\n",
              "      <td>São Paulo</td>\n",
              "      <td>Artur Moreira</td>\n",
              "      <td>1004</td>\n",
              "      <td>2015-05-02</td>\n",
              "      <td>3999.0</td>\n",
              "      <td>399.9</td>\n",
              "    </tr>\n",
              "    <tr>\n",
              "      <th>173</th>\n",
              "      <td>SKU-0000174</td>\n",
              "      <td>Samsung Galaxy 8</td>\n",
              "      <td>Celulares</td>\n",
              "      <td>Corporativo</td>\n",
              "      <td>Samsung</td>\n",
              "      <td>B7659</td>\n",
              "      <td>Campinas</td>\n",
              "      <td>São Paulo</td>\n",
              "      <td>André Pereira</td>\n",
              "      <td>1002</td>\n",
              "      <td>2015-06-02</td>\n",
              "      <td>3999.0</td>\n",
              "      <td>399.9</td>\n",
              "    </tr>\n",
              "    <tr>\n",
              "      <th>174</th>\n",
              "      <td>SKU-0000175</td>\n",
              "      <td>Samsung Galaxy 8</td>\n",
              "      <td>Celulares</td>\n",
              "      <td>Corporativo</td>\n",
              "      <td>Samsung</td>\n",
              "      <td>B7659</td>\n",
              "      <td>Campinas</td>\n",
              "      <td>São Paulo</td>\n",
              "      <td>André Pereira</td>\n",
              "      <td>1002</td>\n",
              "      <td>2015-07-02</td>\n",
              "      <td>3999.0</td>\n",
              "      <td>399.9</td>\n",
              "    </tr>\n",
              "    <tr>\n",
              "      <th>175</th>\n",
              "      <td>SKU-0000176</td>\n",
              "      <td>Samsung Galaxy 8</td>\n",
              "      <td>Celulares</td>\n",
              "      <td>Corporativo</td>\n",
              "      <td>Samsung</td>\n",
              "      <td>SP8822</td>\n",
              "      <td>São Paulo</td>\n",
              "      <td>São Paulo</td>\n",
              "      <td>Artur Moreira</td>\n",
              "      <td>1004</td>\n",
              "      <td>2015-08-02</td>\n",
              "      <td>3999.0</td>\n",
              "      <td>399.9</td>\n",
              "    </tr>\n",
              "    <tr>\n",
              "      <th>176</th>\n",
              "      <td>SKU-0000177</td>\n",
              "      <td>Samsung Galaxy 8</td>\n",
              "      <td>Celulares</td>\n",
              "      <td>Corporativo</td>\n",
              "      <td>Samsung</td>\n",
              "      <td>SP8822</td>\n",
              "      <td>São Paulo</td>\n",
              "      <td>São Paulo</td>\n",
              "      <td>André Pereira</td>\n",
              "      <td>1002</td>\n",
              "      <td>2015-09-02</td>\n",
              "      <td>3999.0</td>\n",
              "      <td>399.9</td>\n",
              "    </tr>\n",
              "  </tbody>\n",
              "</table>\n",
              "</div>"
            ],
            "text/plain": [
              "      ID-Produto           Produto  Categoria  ... Data Venda ValorVenda Comissao\n",
              "147  SKU-0000148  Samsung Galaxy 8  Celulares  ... 2013-07-21     3999.0    399.9\n",
              "150  SKU-0000151  Samsung Galaxy 8  Celulares  ... 2013-10-24     3999.0    399.9\n",
              "154  SKU-0000155  Samsung Galaxy 8  Celulares  ... 2014-10-04     3999.0    399.9\n",
              "156  SKU-0000157  Samsung Galaxy 8  Celulares  ... 2014-02-02     3999.0    399.9\n",
              "157  SKU-0000158  Samsung Galaxy 8  Celulares  ... 2014-03-03     3999.0    399.9\n",
              "158  SKU-0000159  Samsung Galaxy 8  Celulares  ... 2014-04-04     3999.0    399.9\n",
              "159  SKU-0000160  Samsung Galaxy 8  Celulares  ... 2014-05-04     3999.0    399.9\n",
              "169  SKU-0000170  Samsung Galaxy 8  Celulares  ... 2015-02-02     3999.0    399.9\n",
              "170  SKU-0000171  Samsung Galaxy 8  Celulares  ... 2015-03-02     3999.0    399.9\n",
              "171  SKU-0000172  Samsung Galaxy 8  Celulares  ... 2015-04-02     3999.0    399.9\n",
              "172  SKU-0000173  Samsung Galaxy 8  Celulares  ... 2015-05-02     3999.0    399.9\n",
              "173  SKU-0000174  Samsung Galaxy 8  Celulares  ... 2015-06-02     3999.0    399.9\n",
              "174  SKU-0000175  Samsung Galaxy 8  Celulares  ... 2015-07-02     3999.0    399.9\n",
              "175  SKU-0000176  Samsung Galaxy 8  Celulares  ... 2015-08-02     3999.0    399.9\n",
              "176  SKU-0000177  Samsung Galaxy 8  Celulares  ... 2015-09-02     3999.0    399.9\n",
              "\n",
              "[15 rows x 13 columns]"
            ]
          },
          "metadata": {
            "tags": []
          },
          "execution_count": 128
        }
      ]
    },
    {
      "cell_type": "code",
      "metadata": {
        "id": "ofW7q3jz7IYN",
        "colab_type": "code",
        "colab": {}
      },
      "source": [
        "#Salvar em csv\n",
        "df.to_csv(\"df_vendas_novo.csv\", index=False)"
      ],
      "execution_count": 129,
      "outputs": []
    },
    {
      "cell_type": "code",
      "metadata": {
        "id": "a0w1wLxh70aF",
        "colab_type": "code",
        "colab": {}
      },
      "source": [
        ""
      ],
      "execution_count": null,
      "outputs": []
    }
  ]
}